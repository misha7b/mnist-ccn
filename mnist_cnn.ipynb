{
 "cells": [
  {
   "cell_type": "code",
   "execution_count": 25,
   "metadata": {},
   "outputs": [],
   "source": [
    "import numpy as np\n",
    "import pandas as pd\n",
    "from sklearn.datasets import fetch_openml\n",
    "import matplotlib.pyplot as plt"
   ]
  },
  {
   "cell_type": "code",
   "execution_count": null,
   "metadata": {},
   "outputs": [],
   "source": [
    "# load the MNIST dataset\n",
    "\n",
    "mnist = fetch_openml('mnist_784', version=1)\n",
    "X = mnist.data.to_numpy().astype(np.float32)\n",
    "y = mnist.target.astype(int).to_numpy()"
   ]
  },
  {
   "cell_type": "code",
   "execution_count": 27,
   "metadata": {},
   "outputs": [],
   "source": [
    "# Normalize the data\n",
    "\n",
    "X /= 255.0\n",
    "\n"
   ]
  },
  {
   "cell_type": "code",
   "execution_count": 30,
   "metadata": {},
   "outputs": [],
   "source": [
    "X_train, X_test = X[:60000], X[60000:]\n",
    "y_train, y_test = y[:60000], y[60000:]\n",
    "\n",
    "X_train = X_train.reshape(-1,28, 28, 1)\n",
    "X_test = X_test.reshape(-1,28, 28, 1)"
   ]
  },
  {
   "cell_type": "code",
   "execution_count": 31,
   "metadata": {},
   "outputs": [
    {
     "data": {
      "image/png": "[encoded data removed]",
      "text/plain": [
       "<Figure size 640x480 with 1 Axes>"
      ]
     },
     "metadata": {},
     "output_type": "display_data"
    }
   ],
   "source": [
    "\n",
    "plt.imshow(X_train[0], cmap='gray')\n",
    "plt.title(\"Sample Image from X_train\")\n",
    "plt.axis('off')\n",
    "plt.show()\n"
   ]
  },
  {
   "cell_type": "code",
   "execution_count": 32,
   "metadata": {},
   "outputs": [
    {
     "name": "stdout",
     "output_type": "stream",
     "text": [
      "Batch size: 32\n",
      "Learning rate: 0.001\n",
      "Epochs: 10\n",
      "Conv1: 8 filters, 3x3, stride 1, padding 0\n",
      "Pool size: 2\n",
      "FC layer sizes: 128 -> 10\n"
     ]
    }
   ],
   "source": [
    "# general hyperparameters\n",
    "\n",
    "n_epochs = 10\n",
    "batch_size = 32\n",
    "learning_rate = 0.001\n",
    "\n",
    "# convolutional layer hyperparameters\n",
    "\n",
    "n_filters = 8\n",
    "filter_size = 3\n",
    "stride = 1\n",
    "padding = 0\n",
    "\n",
    "# pooling layer hyperparameters\n",
    "\n",
    "pool_size = 2\n",
    "\n",
    "# fcl hyperparameters\n",
    "\n",
    "fc1_output_size = 128\n",
    "fc2_output_size = 10\n",
    "\n",
    "print(\"Batch size:\", batch_size)\n",
    "print(\"Learning rate:\", learning_rate)\n",
    "print(\"Epochs:\", n_epochs)\n",
    "print(\"Conv1: {} filters, {}x{}, stride {}, padding {}\".format(\n",
    "    n_filters, filter_size, filter_size, stride, padding))\n",
    "print(\"Pool size:\", pool_size)\n",
    "print(\"FC layer sizes:\", fc1_output_size, \"->\", fc2_output_size)\n",
    "\n"
   ]
  },
  {
   "cell_type": "code",
   "execution_count": 36,
   "metadata": {},
   "outputs": [
    {
     "name": "stdout",
     "output_type": "stream",
     "text": [
      "(1, 1, 28, 28)\n",
      "Output shape: (1, 8, 26, 26)\n"
     ]
    }
   ],
   "source": [
    "class ConvLayer:\n",
    "    def __init__(self, n_filters, filter_size, stride, padding):\n",
    "        \n",
    "        self.n_filters = n_filters\n",
    "        self.filter_size = filter_size\n",
    "        self.stride = stride\n",
    "        self.pad = padding\n",
    "        \n",
    "        # initialize filters\n",
    "        self.filters = np.random.randn(n_filters, filter_size, filter_size) / (filter_size * filter_size)\n",
    "        self.biases = np.zeros((n_filters, 1))\n",
    "        \n",
    "        \n",
    "    def forward(self, input):\n",
    "        '''\n",
    "        Performs a forward pass\n",
    "        '''\n",
    "        \n",
    "        #cache input for the backward pass\n",
    "        self.input = input\n",
    "        batch, depth, height, width = input.shape\n",
    "        \n",
    "        output_width = (width - self.filter_size + 2 * self.pad) // self.stride + 1\n",
    "        output_height = (height - self.filter_size + 2 * self.pad) // self.stride + 1\n",
    "        \n",
    "        output = np.zeros((batch, self.n_filters, output_height, output_width))\n",
    "        \n",
    "        for b in range(batch):\n",
    "            \n",
    "            for f in range(self.n_filters):\n",
    "                \n",
    "                for i in range(output_height):\n",
    "                    \n",
    "                    for j in range(output_width):\n",
    "                        \n",
    "                        region = input[b, :, i:i+self.filter_size, j:j+self.filter_size]\n",
    "                        \n",
    "                        output[b, f, i, j] = np.sum(region * self.filters[f]) + self.b[f]\n",
    "                        \n",
    "        \n",
    "        return output\n",
    "    \n",
    "    def backward(self, dout, learning_rate):\n",
    "        '''\n",
    "        Performs a backward pass\n",
    "        '''\n",
    "        \n",
    "        batch, depth, height, width = self.input.shape\n",
    "        out_height = height - self.filter_size + 1\n",
    "        out_width = width - self.filter_size + 1\n",
    "        \n",
    "        dfilters = np.zeros(self.filters.shape)\n",
    "        dbiases = np.zeros(self.b.shape)\n",
    "        dinput = np.zeros(self.input.shape)\n",
    "        \n",
    "        for b in range(batch):\n",
    "            \n",
    "            for f in range(self.num_filters):\n",
    "                \n",
    "                for i in range(out_height):\n",
    "                    \n",
    "                    for j in range(out_width):\n",
    "                        \n",
    "                        region = self.input[b, :, i:i+self.filter_size, j:j+self.filter_size]\n",
    "                        dfilters[f] += dout[b, f, i, j] * region\n",
    "                        dbiases[f] += dout[b, f, i, j]\n",
    "                        dinput[b, :, i:i+self.filter_size, j:j+self.filter_size] += dout[b, f, i, j] * self.filters[f]\n",
    "                        \n",
    "        self.filters -= learning_rate * dfilters\n",
    "        self.biases  -= learning_rate * dbiases\n",
    "        \n",
    "        return dinput\n",
    "        "
   ]
  },
  {
   "cell_type": "code",
   "execution_count": null,
   "metadata": {},
   "outputs": [],
   "source": [
    "class MaxPoolLayer:\n",
    "    \n",
    "    def __init__(self, pool_size):\n",
    "        self.pool_size = pool_size\n",
    "        \n",
    "    def forward(self, input):\n",
    "        \n",
    "        self.input = input\n",
    "        batch, depth, height, width = input.shape\n",
    "        out_height = height // self.pool_size\n",
    "        out_width = width // self.pool_size\n",
    "        \n",
    "        output = np.zeros((batch, depth, out_height, out_width))\n",
    "        self.argmax = np.zeros((batch, depth, out_height, out_width), dtype=int)\n",
    "        \n",
    "        for b in range(batch):\n",
    "            \n",
    "            for d in range(depth):\n",
    "                \n",
    "                for i in range(out_height):\n",
    "                    \n",
    "                    for j in range(out_width):\n",
    "                        \n",
    "                        region = input[b, d, i*self.pool_size:(i+1)*self.pool_size,\n",
    "                                             j*self.pool_size:(j+1)*self.pool_size]\n",
    "                        output[b, d, i, j] = np.max(region)\n",
    "                        self.argmax[b, d, i, j] = np.argmax(region)\n",
    "        \n",
    "        return output\n",
    "    \n",
    "    def backward(self, dout):\n",
    "        \n",
    "        batch, depth, height, width = self.input.shape\n",
    "        dinput = np.zeros_like(self.input)\n",
    "        out_height = height // self.pool_size\n",
    "        out_width  = width // self.pool_size\n",
    "        \n",
    "        for b in range(batch):\n",
    "            for d in range(depth):\n",
    "                for i in range(out_height):\n",
    "                    for j in range(out_width):\n",
    "                        region = self.input[b, d,\n",
    "                                i*self.pool_size:(i+1)*self.pool_size,\n",
    "                                j*self.pool_size:(j+1)*self.pool_size]\n",
    "                        idx = self.argmax[b, d, i, j]\n",
    "                        idx0 = idx // pool_size\n",
    "                        idx1 = idx % pool_size \n",
    "                        dinput[b, d, i*self.pool_size + idx0, j*self.pool_size + idx1] = dout[b, d, i, j]\n",
    "        \n",
    "        return dinput            "
   ]
  },
  {
   "cell_type": "code",
   "execution_count": null,
   "metadata": {},
   "outputs": [],
   "source": [
    "class FCLayer:\n",
    "\n",
    "    def __init__(self, input_size, output_size):\n",
    "        \n",
    "        self.weights = np.random.randn(output_size, input_size) / input_size\n",
    "        self.biases = np.zeros((output_size, 1))   \n",
    "        \n",
    "    def forward(self, input):\n",
    "        \n",
    "        self.input = input\n",
    "        return np.dot(self.weights, input) + self.biases\n",
    "    \n",
    "    def backward(self, dout, learning_rate):\n",
    "        \n",
    "        dweights = np.dot(dout, self.input.T)\n",
    "        dbiases = np.sum(dout, axis=1, keepdims=True)\n",
    "        dinput = np.dot(self.weights.T, dout)\n",
    "        \n",
    "        self.weights -= learning_rate * dweights\n",
    "        self.biases  -= learning_rate * dbiases\n",
    "        \n",
    "        return dinput"
   ]
  },
  {
   "cell_type": "code",
   "execution_count": null,
   "metadata": {},
   "outputs": [],
   "source": [
    "class Activation"
   ]
  }
 ],
 "metadata": {
  "kernelspec": {
   "display_name": "3.11.11",
   "language": "python",
   "name": "python3"
  },
  "language_info": {
   "codemirror_mode": {
    "name": "ipython",
    "version": 3
   },
   "file_extension": ".py",
   "mimetype": "text/x-python",
   "name": "python",
   "nbconvert_exporter": "python",
   "pygments_lexer": "ipython3",
   "version": "3.11.11"
  }
 },
 "nbformat": 4,
 "nbformat_minor": 2
}
